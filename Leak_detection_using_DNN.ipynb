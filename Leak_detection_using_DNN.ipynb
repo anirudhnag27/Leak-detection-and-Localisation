{
  "nbformat": 4,
  "nbformat_minor": 0,
  "metadata": {
    "colab": {
      "name": "Leak detection using DNN.ipynb",
      "provenance": [],
      "collapsed_sections": []
    },
    "kernelspec": {
      "name": "python3",
      "display_name": "Python 3"
    }
  },
  "cells": [
    {
      "cell_type": "code",
      "metadata": {
        "id": "VpHk6r0WgQn8",
        "colab_type": "code",
        "colab": {
          "base_uri": "https://localhost:8080/",
          "height": 122
        },
        "outputId": "6cbe5c42-0267-4ce8-b640-f340f9b93b41"
      },
      "source": [
        "from google.colab import drive\n",
        "drive.mount('/content/gdrive')"
      ],
      "execution_count": 1,
      "outputs": [
        {
          "output_type": "stream",
          "text": [
            "Go to this URL in a browser: https://accounts.google.com/o/oauth2/auth?client_id=947318989803-6bn6qk8qdgf4n4g3pfee6491hc0brc4i.apps.googleusercontent.com&redirect_uri=urn%3aietf%3awg%3aoauth%3a2.0%3aoob&response_type=code&scope=email%20https%3a%2f%2fwww.googleapis.com%2fauth%2fdocs.test%20https%3a%2f%2fwww.googleapis.com%2fauth%2fdrive%20https%3a%2f%2fwww.googleapis.com%2fauth%2fdrive.photos.readonly%20https%3a%2f%2fwww.googleapis.com%2fauth%2fpeopleapi.readonly\n",
            "\n",
            "Enter your authorization code:\n",
            "··········\n",
            "Mounted at /content/gdrive\n"
          ],
          "name": "stdout"
        }
      ]
    },
    {
      "cell_type": "code",
      "metadata": {
        "id": "8QZ6qmKl-IZy",
        "colab_type": "code",
        "colab": {
          "base_uri": "https://localhost:8080/",
          "height": 34
        },
        "outputId": "0366f17a-4acc-4235-f6a8-1115ae24296f"
      },
      "source": [
        "import keras\n",
        "import numpy as np\n",
        "import pandas as pd"
      ],
      "execution_count": 2,
      "outputs": [
        {
          "output_type": "stream",
          "text": [
            "Using TensorFlow backend.\n"
          ],
          "name": "stderr"
        }
      ]
    },
    {
      "cell_type": "code",
      "metadata": {
        "id": "Yih9yRUe-RD4",
        "colab_type": "code",
        "colab": {
          "resources": {
            "http://localhost:8080/nbextensions/google.colab/files.js": {
              "data": "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",
              "ok": true,
              "headers": [
                [
                  "content-type",
                  "application/javascript"
                ]
              ],
              "status": 200,
              "status_text": ""
            }
          },
          "base_uri": "https://localhost:8080/",
          "height": 175
        },
        "outputId": "0bced7e4-f30a-4a61-8fa7-b8c7fb95e9a7"
      },
      "source": [
        "from google.colab import files\n",
        "file = files.upload()"
      ],
      "execution_count": 3,
      "outputs": [
        {
          "output_type": "display_data",
          "data": {
            "text/html": [
              "\n",
              "     <input type=\"file\" id=\"files-913cbf12-5d84-4f2d-ace3-c6bba1451459\" name=\"files[]\" multiple disabled\n",
              "        style=\"border:none\" />\n",
              "     <output id=\"result-913cbf12-5d84-4f2d-ace3-c6bba1451459\">\n",
              "      Upload widget is only available when the cell has been executed in the\n",
              "      current browser session. Please rerun this cell to enable.\n",
              "      </output>\n",
              "      <script src=\"/nbextensions/google.colab/files.js\"></script> "
            ],
            "text/plain": [
              "<IPython.core.display.HTML object>"
            ]
          },
          "metadata": {
            "tags": []
          }
        },
        {
          "output_type": "stream",
          "text": [
            "Saving x_test.xlsx to x_test.xlsx\n",
            "Saving x_train.xlsx to x_train.xlsx\n",
            "Saving y_test.xlsx to y_test.xlsx\n",
            "Saving y_train.xlsx to y_train.xlsx\n"
          ],
          "name": "stdout"
        }
      ]
    },
    {
      "cell_type": "code",
      "metadata": {
        "id": "GrG_Bp88-S8F",
        "colab_type": "code",
        "colab": {}
      },
      "source": [
        "x_train = pd.read_excel('x_train.xlsx')\n",
        "y_train = pd.read_excel('y_train.xlsx')\n",
        "x_test = pd.read_excel('x_test.xlsx')\n",
        "y_test = pd.read_excel('y_test.xlsx')"
      ],
      "execution_count": 4,
      "outputs": []
    },
    {
      "cell_type": "code",
      "metadata": {
        "id": "nF2VPkhn-Y0C",
        "colab_type": "code",
        "colab": {
          "base_uri": "https://localhost:8080/",
          "height": 419
        },
        "outputId": "957fa52f-2a3a-456a-daf2-b5de07224d18"
      },
      "source": [
        "x_train"
      ],
      "execution_count": 5,
      "outputs": [
        {
          "output_type": "execute_result",
          "data": {
            "text/html": [
              "<div>\n",
              "<style scoped>\n",
              "    .dataframe tbody tr th:only-of-type {\n",
              "        vertical-align: middle;\n",
              "    }\n",
              "\n",
              "    .dataframe tbody tr th {\n",
              "        vertical-align: top;\n",
              "    }\n",
              "\n",
              "    .dataframe thead th {\n",
              "        text-align: right;\n",
              "    }\n",
              "</style>\n",
              "<table border=\"1\" class=\"dataframe\">\n",
              "  <thead>\n",
              "    <tr style=\"text-align: right;\">\n",
              "      <th></th>\n",
              "      <th>Junc 10</th>\n",
              "      <th>Junc 11</th>\n",
              "      <th>Junc 12</th>\n",
              "      <th>Junc 13</th>\n",
              "      <th>Junc 21</th>\n",
              "      <th>Junc 22</th>\n",
              "      <th>Junc 23</th>\n",
              "      <th>Junc 31</th>\n",
              "      <th>Junc 32</th>\n",
              "    </tr>\n",
              "  </thead>\n",
              "  <tbody>\n",
              "    <tr>\n",
              "      <th>0</th>\n",
              "      <td>111.07</td>\n",
              "      <td>110.90</td>\n",
              "      <td>115.38</td>\n",
              "      <td>116.56</td>\n",
              "      <td>113.70</td>\n",
              "      <td>115.94</td>\n",
              "      <td>118.04</td>\n",
              "      <td>112.15</td>\n",
              "      <td>107.41</td>\n",
              "    </tr>\n",
              "    <tr>\n",
              "      <th>1</th>\n",
              "      <td>130.28</td>\n",
              "      <td>122.37</td>\n",
              "      <td>121.40</td>\n",
              "      <td>122.23</td>\n",
              "      <td>120.13</td>\n",
              "      <td>121.88</td>\n",
              "      <td>123.82</td>\n",
              "      <td>117.13</td>\n",
              "      <td>111.89</td>\n",
              "    </tr>\n",
              "    <tr>\n",
              "      <th>2</th>\n",
              "      <td>119.99</td>\n",
              "      <td>110.67</td>\n",
              "      <td>108.43</td>\n",
              "      <td>109.34</td>\n",
              "      <td>107.60</td>\n",
              "      <td>109.12</td>\n",
              "      <td>111.03</td>\n",
              "      <td>104.55</td>\n",
              "      <td>99.24</td>\n",
              "    </tr>\n",
              "    <tr>\n",
              "      <th>3</th>\n",
              "      <td>130.28</td>\n",
              "      <td>122.37</td>\n",
              "      <td>121.40</td>\n",
              "      <td>122.23</td>\n",
              "      <td>120.13</td>\n",
              "      <td>121.88</td>\n",
              "      <td>123.82</td>\n",
              "      <td>117.13</td>\n",
              "      <td>111.89</td>\n",
              "    </tr>\n",
              "    <tr>\n",
              "      <th>4</th>\n",
              "      <td>128.59</td>\n",
              "      <td>120.45</td>\n",
              "      <td>118.35</td>\n",
              "      <td>119.99</td>\n",
              "      <td>118.94</td>\n",
              "      <td>120.07</td>\n",
              "      <td>122.05</td>\n",
              "      <td>117.15</td>\n",
              "      <td>112.09</td>\n",
              "    </tr>\n",
              "    <tr>\n",
              "      <th>...</th>\n",
              "      <td>...</td>\n",
              "      <td>...</td>\n",
              "      <td>...</td>\n",
              "      <td>...</td>\n",
              "      <td>...</td>\n",
              "      <td>...</td>\n",
              "      <td>...</td>\n",
              "      <td>...</td>\n",
              "      <td>...</td>\n",
              "    </tr>\n",
              "    <tr>\n",
              "      <th>512</th>\n",
              "      <td>127.54</td>\n",
              "      <td>119.26</td>\n",
              "      <td>117.02</td>\n",
              "      <td>118.67</td>\n",
              "      <td>117.66</td>\n",
              "      <td>118.76</td>\n",
              "      <td>120.74</td>\n",
              "      <td>115.86</td>\n",
              "      <td>110.79</td>\n",
              "    </tr>\n",
              "    <tr>\n",
              "      <th>513</th>\n",
              "      <td>123.80</td>\n",
              "      <td>115.01</td>\n",
              "      <td>114.84</td>\n",
              "      <td>113.58</td>\n",
              "      <td>107.14</td>\n",
              "      <td>109.52</td>\n",
              "      <td>111.69</td>\n",
              "      <td>82.28</td>\n",
              "      <td>17.35</td>\n",
              "    </tr>\n",
              "    <tr>\n",
              "      <th>514</th>\n",
              "      <td>129.25</td>\n",
              "      <td>121.20</td>\n",
              "      <td>119.63</td>\n",
              "      <td>120.91</td>\n",
              "      <td>119.35</td>\n",
              "      <td>120.82</td>\n",
              "      <td>122.78</td>\n",
              "      <td>117.01</td>\n",
              "      <td>111.89</td>\n",
              "    </tr>\n",
              "    <tr>\n",
              "      <th>515</th>\n",
              "      <td>124.13</td>\n",
              "      <td>115.38</td>\n",
              "      <td>115.77</td>\n",
              "      <td>114.57</td>\n",
              "      <td>104.34</td>\n",
              "      <td>109.86</td>\n",
              "      <td>112.08</td>\n",
              "      <td>38.80</td>\n",
              "      <td>57.30</td>\n",
              "    </tr>\n",
              "    <tr>\n",
              "      <th>516</th>\n",
              "      <td>129.96</td>\n",
              "      <td>122.01</td>\n",
              "      <td>120.53</td>\n",
              "      <td>121.80</td>\n",
              "      <td>120.21</td>\n",
              "      <td>121.71</td>\n",
              "      <td>123.67</td>\n",
              "      <td>117.88</td>\n",
              "      <td>112.76</td>\n",
              "    </tr>\n",
              "  </tbody>\n",
              "</table>\n",
              "<p>517 rows × 9 columns</p>\n",
              "</div>"
            ],
            "text/plain": [
              "     Junc 10  Junc 11  Junc 12  Junc 13  ...  Junc 22  Junc 23  Junc 31  Junc 32\n",
              "0     111.07   110.90   115.38   116.56  ...   115.94   118.04   112.15   107.41\n",
              "1     130.28   122.37   121.40   122.23  ...   121.88   123.82   117.13   111.89\n",
              "2     119.99   110.67   108.43   109.34  ...   109.12   111.03   104.55    99.24\n",
              "3     130.28   122.37   121.40   122.23  ...   121.88   123.82   117.13   111.89\n",
              "4     128.59   120.45   118.35   119.99  ...   120.07   122.05   117.15   112.09\n",
              "..       ...      ...      ...      ...  ...      ...      ...      ...      ...\n",
              "512   127.54   119.26   117.02   118.67  ...   118.76   120.74   115.86   110.79\n",
              "513   123.80   115.01   114.84   113.58  ...   109.52   111.69    82.28    17.35\n",
              "514   129.25   121.20   119.63   120.91  ...   120.82   122.78   117.01   111.89\n",
              "515   124.13   115.38   115.77   114.57  ...   109.86   112.08    38.80    57.30\n",
              "516   129.96   122.01   120.53   121.80  ...   121.71   123.67   117.88   112.76\n",
              "\n",
              "[517 rows x 9 columns]"
            ]
          },
          "metadata": {
            "tags": []
          },
          "execution_count": 5
        }
      ]
    },
    {
      "cell_type": "code",
      "metadata": {
        "id": "SrxlG-gk-ay7",
        "colab_type": "code",
        "colab": {
          "base_uri": "https://localhost:8080/",
          "height": 419
        },
        "outputId": "afe4ce4b-9c57-4b23-9aa0-fc96eb7f1ba7"
      },
      "source": [
        "y_train"
      ],
      "execution_count": 6,
      "outputs": [
        {
          "output_type": "execute_result",
          "data": {
            "text/html": [
              "<div>\n",
              "<style scoped>\n",
              "    .dataframe tbody tr th:only-of-type {\n",
              "        vertical-align: middle;\n",
              "    }\n",
              "\n",
              "    .dataframe tbody tr th {\n",
              "        vertical-align: top;\n",
              "    }\n",
              "\n",
              "    .dataframe thead th {\n",
              "        text-align: right;\n",
              "    }\n",
              "</style>\n",
              "<table border=\"1\" class=\"dataframe\">\n",
              "  <thead>\n",
              "    <tr style=\"text-align: right;\">\n",
              "      <th></th>\n",
              "      <th>condition</th>\n",
              "    </tr>\n",
              "  </thead>\n",
              "  <tbody>\n",
              "    <tr>\n",
              "      <th>0</th>\n",
              "      <td>1</td>\n",
              "    </tr>\n",
              "    <tr>\n",
              "      <th>1</th>\n",
              "      <td>0</td>\n",
              "    </tr>\n",
              "    <tr>\n",
              "      <th>2</th>\n",
              "      <td>1</td>\n",
              "    </tr>\n",
              "    <tr>\n",
              "      <th>3</th>\n",
              "      <td>0</td>\n",
              "    </tr>\n",
              "    <tr>\n",
              "      <th>4</th>\n",
              "      <td>0</td>\n",
              "    </tr>\n",
              "    <tr>\n",
              "      <th>...</th>\n",
              "      <td>...</td>\n",
              "    </tr>\n",
              "    <tr>\n",
              "      <th>512</th>\n",
              "      <td>0</td>\n",
              "    </tr>\n",
              "    <tr>\n",
              "      <th>513</th>\n",
              "      <td>0</td>\n",
              "    </tr>\n",
              "    <tr>\n",
              "      <th>514</th>\n",
              "      <td>0</td>\n",
              "    </tr>\n",
              "    <tr>\n",
              "      <th>515</th>\n",
              "      <td>1</td>\n",
              "    </tr>\n",
              "    <tr>\n",
              "      <th>516</th>\n",
              "      <td>0</td>\n",
              "    </tr>\n",
              "  </tbody>\n",
              "</table>\n",
              "<p>517 rows × 1 columns</p>\n",
              "</div>"
            ],
            "text/plain": [
              "     condition\n",
              "0            1\n",
              "1            0\n",
              "2            1\n",
              "3            0\n",
              "4            0\n",
              "..         ...\n",
              "512          0\n",
              "513          0\n",
              "514          0\n",
              "515          1\n",
              "516          0\n",
              "\n",
              "[517 rows x 1 columns]"
            ]
          },
          "metadata": {
            "tags": []
          },
          "execution_count": 6
        }
      ]
    },
    {
      "cell_type": "code",
      "metadata": {
        "id": "tC_Z9NHY-b_r",
        "colab_type": "code",
        "colab": {
          "base_uri": "https://localhost:8080/",
          "height": 419
        },
        "outputId": "cce6c4cc-c332-4fad-dbc7-c9f2ad20c8d0"
      },
      "source": [
        "x_test"
      ],
      "execution_count": 7,
      "outputs": [
        {
          "output_type": "execute_result",
          "data": {
            "text/html": [
              "<div>\n",
              "<style scoped>\n",
              "    .dataframe tbody tr th:only-of-type {\n",
              "        vertical-align: middle;\n",
              "    }\n",
              "\n",
              "    .dataframe tbody tr th {\n",
              "        vertical-align: top;\n",
              "    }\n",
              "\n",
              "    .dataframe thead th {\n",
              "        text-align: right;\n",
              "    }\n",
              "</style>\n",
              "<table border=\"1\" class=\"dataframe\">\n",
              "  <thead>\n",
              "    <tr style=\"text-align: right;\">\n",
              "      <th></th>\n",
              "      <th>Junc 10</th>\n",
              "      <th>Junc 11</th>\n",
              "      <th>Junc 12</th>\n",
              "      <th>Junc 13</th>\n",
              "      <th>Junc 21</th>\n",
              "      <th>Junc 22</th>\n",
              "      <th>Junc 23</th>\n",
              "      <th>Junc 31</th>\n",
              "      <th>Junc 32</th>\n",
              "    </tr>\n",
              "  </thead>\n",
              "  <tbody>\n",
              "    <tr>\n",
              "      <th>0</th>\n",
              "      <td>121.26</td>\n",
              "      <td>112.11</td>\n",
              "      <td>116.94</td>\n",
              "      <td>118.08</td>\n",
              "      <td>115.10</td>\n",
              "      <td>117.40</td>\n",
              "      <td>119.51</td>\n",
              "      <td>113.57</td>\n",
              "      <td>108.85</td>\n",
              "    </tr>\n",
              "    <tr>\n",
              "      <th>1</th>\n",
              "      <td>121.17</td>\n",
              "      <td>112.02</td>\n",
              "      <td>115.50</td>\n",
              "      <td>116.39</td>\n",
              "      <td>113.54</td>\n",
              "      <td>115.71</td>\n",
              "      <td>117.77</td>\n",
              "      <td>111.35</td>\n",
              "      <td>106.43</td>\n",
              "    </tr>\n",
              "    <tr>\n",
              "      <th>2</th>\n",
              "      <td>123.80</td>\n",
              "      <td>115.01</td>\n",
              "      <td>114.84</td>\n",
              "      <td>113.58</td>\n",
              "      <td>107.14</td>\n",
              "      <td>109.52</td>\n",
              "      <td>111.69</td>\n",
              "      <td>82.28</td>\n",
              "      <td>17.35</td>\n",
              "    </tr>\n",
              "    <tr>\n",
              "      <th>3</th>\n",
              "      <td>123.80</td>\n",
              "      <td>115.01</td>\n",
              "      <td>114.84</td>\n",
              "      <td>113.58</td>\n",
              "      <td>107.14</td>\n",
              "      <td>109.52</td>\n",
              "      <td>111.69</td>\n",
              "      <td>82.28</td>\n",
              "      <td>17.35</td>\n",
              "    </tr>\n",
              "    <tr>\n",
              "      <th>4</th>\n",
              "      <td>128.59</td>\n",
              "      <td>120.45</td>\n",
              "      <td>118.35</td>\n",
              "      <td>119.99</td>\n",
              "      <td>118.94</td>\n",
              "      <td>120.07</td>\n",
              "      <td>122.05</td>\n",
              "      <td>117.15</td>\n",
              "      <td>112.09</td>\n",
              "    </tr>\n",
              "    <tr>\n",
              "      <th>...</th>\n",
              "      <td>...</td>\n",
              "      <td>...</td>\n",
              "      <td>...</td>\n",
              "      <td>...</td>\n",
              "      <td>...</td>\n",
              "      <td>...</td>\n",
              "      <td>...</td>\n",
              "      <td>...</td>\n",
              "      <td>...</td>\n",
              "    </tr>\n",
              "    <tr>\n",
              "      <th>126</th>\n",
              "      <td>130.28</td>\n",
              "      <td>122.37</td>\n",
              "      <td>121.40</td>\n",
              "      <td>122.23</td>\n",
              "      <td>120.13</td>\n",
              "      <td>121.88</td>\n",
              "      <td>123.82</td>\n",
              "      <td>117.13</td>\n",
              "      <td>111.89</td>\n",
              "    </tr>\n",
              "    <tr>\n",
              "      <th>127</th>\n",
              "      <td>129.96</td>\n",
              "      <td>122.01</td>\n",
              "      <td>120.53</td>\n",
              "      <td>121.80</td>\n",
              "      <td>120.21</td>\n",
              "      <td>121.71</td>\n",
              "      <td>123.67</td>\n",
              "      <td>117.88</td>\n",
              "      <td>112.76</td>\n",
              "    </tr>\n",
              "    <tr>\n",
              "      <th>128</th>\n",
              "      <td>125.52</td>\n",
              "      <td>116.96</td>\n",
              "      <td>116.93</td>\n",
              "      <td>108.58</td>\n",
              "      <td>107.46</td>\n",
              "      <td>104.74</td>\n",
              "      <td>87.75</td>\n",
              "      <td>104.71</td>\n",
              "      <td>97.99</td>\n",
              "    </tr>\n",
              "    <tr>\n",
              "      <th>129</th>\n",
              "      <td>130.28</td>\n",
              "      <td>122.37</td>\n",
              "      <td>121.40</td>\n",
              "      <td>122.23</td>\n",
              "      <td>120.13</td>\n",
              "      <td>121.88</td>\n",
              "      <td>123.82</td>\n",
              "      <td>117.13</td>\n",
              "      <td>111.89</td>\n",
              "    </tr>\n",
              "    <tr>\n",
              "      <th>130</th>\n",
              "      <td>106.26</td>\n",
              "      <td>105.42</td>\n",
              "      <td>109.75</td>\n",
              "      <td>110.10</td>\n",
              "      <td>106.72</td>\n",
              "      <td>109.00</td>\n",
              "      <td>111.05</td>\n",
              "      <td>103.84</td>\n",
              "      <td>98.74</td>\n",
              "    </tr>\n",
              "  </tbody>\n",
              "</table>\n",
              "<p>131 rows × 9 columns</p>\n",
              "</div>"
            ],
            "text/plain": [
              "     Junc 10  Junc 11  Junc 12  Junc 13  ...  Junc 22  Junc 23  Junc 31  Junc 32\n",
              "0     121.26   112.11   116.94   118.08  ...   117.40   119.51   113.57   108.85\n",
              "1     121.17   112.02   115.50   116.39  ...   115.71   117.77   111.35   106.43\n",
              "2     123.80   115.01   114.84   113.58  ...   109.52   111.69    82.28    17.35\n",
              "3     123.80   115.01   114.84   113.58  ...   109.52   111.69    82.28    17.35\n",
              "4     128.59   120.45   118.35   119.99  ...   120.07   122.05   117.15   112.09\n",
              "..       ...      ...      ...      ...  ...      ...      ...      ...      ...\n",
              "126   130.28   122.37   121.40   122.23  ...   121.88   123.82   117.13   111.89\n",
              "127   129.96   122.01   120.53   121.80  ...   121.71   123.67   117.88   112.76\n",
              "128   125.52   116.96   116.93   108.58  ...   104.74    87.75   104.71    97.99\n",
              "129   130.28   122.37   121.40   122.23  ...   121.88   123.82   117.13   111.89\n",
              "130   106.26   105.42   109.75   110.10  ...   109.00   111.05   103.84    98.74\n",
              "\n",
              "[131 rows x 9 columns]"
            ]
          },
          "metadata": {
            "tags": []
          },
          "execution_count": 7
        }
      ]
    },
    {
      "cell_type": "code",
      "metadata": {
        "id": "vr37h7kh-drd",
        "colab_type": "code",
        "colab": {
          "base_uri": "https://localhost:8080/",
          "height": 419
        },
        "outputId": "c492072c-aa62-4d07-c0ef-697d8fd5532c"
      },
      "source": [
        "y_test"
      ],
      "execution_count": 8,
      "outputs": [
        {
          "output_type": "execute_result",
          "data": {
            "text/html": [
              "<div>\n",
              "<style scoped>\n",
              "    .dataframe tbody tr th:only-of-type {\n",
              "        vertical-align: middle;\n",
              "    }\n",
              "\n",
              "    .dataframe tbody tr th {\n",
              "        vertical-align: top;\n",
              "    }\n",
              "\n",
              "    .dataframe thead th {\n",
              "        text-align: right;\n",
              "    }\n",
              "</style>\n",
              "<table border=\"1\" class=\"dataframe\">\n",
              "  <thead>\n",
              "    <tr style=\"text-align: right;\">\n",
              "      <th></th>\n",
              "      <th>condition</th>\n",
              "    </tr>\n",
              "  </thead>\n",
              "  <tbody>\n",
              "    <tr>\n",
              "      <th>0</th>\n",
              "      <td>1</td>\n",
              "    </tr>\n",
              "    <tr>\n",
              "      <th>1</th>\n",
              "      <td>1</td>\n",
              "    </tr>\n",
              "    <tr>\n",
              "      <th>2</th>\n",
              "      <td>0</td>\n",
              "    </tr>\n",
              "    <tr>\n",
              "      <th>3</th>\n",
              "      <td>0</td>\n",
              "    </tr>\n",
              "    <tr>\n",
              "      <th>4</th>\n",
              "      <td>0</td>\n",
              "    </tr>\n",
              "    <tr>\n",
              "      <th>...</th>\n",
              "      <td>...</td>\n",
              "    </tr>\n",
              "    <tr>\n",
              "      <th>126</th>\n",
              "      <td>0</td>\n",
              "    </tr>\n",
              "    <tr>\n",
              "      <th>127</th>\n",
              "      <td>0</td>\n",
              "    </tr>\n",
              "    <tr>\n",
              "      <th>128</th>\n",
              "      <td>1</td>\n",
              "    </tr>\n",
              "    <tr>\n",
              "      <th>129</th>\n",
              "      <td>0</td>\n",
              "    </tr>\n",
              "    <tr>\n",
              "      <th>130</th>\n",
              "      <td>1</td>\n",
              "    </tr>\n",
              "  </tbody>\n",
              "</table>\n",
              "<p>131 rows × 1 columns</p>\n",
              "</div>"
            ],
            "text/plain": [
              "     condition\n",
              "0            1\n",
              "1            1\n",
              "2            0\n",
              "3            0\n",
              "4            0\n",
              "..         ...\n",
              "126          0\n",
              "127          0\n",
              "128          1\n",
              "129          0\n",
              "130          1\n",
              "\n",
              "[131 rows x 1 columns]"
            ]
          },
          "metadata": {
            "tags": []
          },
          "execution_count": 8
        }
      ]
    },
    {
      "cell_type": "code",
      "metadata": {
        "id": "KzZTxFD3-fQA",
        "colab_type": "code",
        "colab": {}
      },
      "source": [
        "model = keras.Sequential()\n",
        "model.add(keras.layers.Dense(64, activation='relu', input_shape=(9,)))\n",
        "\n",
        "model.add(keras.layers.Dense(128, activation='relu'))\n",
        "\n",
        "model.add(keras.layers.Dense(256, activation='relu'))\n",
        "\n",
        "model.add(keras.layers.Dense(128, activation='relu'))\n",
        "\n",
        "model.add(keras.layers.Dense(1, activation = 'sigmoid'))\n",
        "\n",
        "model.compile(optimizer='adam', loss='binary_crossentropy',\n",
        "              metrics=['accuracy'])"
      ],
      "execution_count": 9,
      "outputs": []
    },
    {
      "cell_type": "code",
      "metadata": {
        "id": "TfCgKsz1-jRe",
        "colab_type": "code",
        "colab": {
          "base_uri": "https://localhost:8080/",
          "height": 1000
        },
        "outputId": "c7ee21e1-5f59-47b7-b679-46514121127f"
      },
      "source": [
        "model.fit(x_train, y_train, validation_data=(x_test, y_test), epochs=40)"
      ],
      "execution_count": 12,
      "outputs": [
        {
          "output_type": "stream",
          "text": [
            "Train on 517 samples, validate on 131 samples\n",
            "Epoch 1/40\n",
            "517/517 [==============================] - 0s 98us/step - loss: 0.3022 - accuracy: 0.9110 - val_loss: 0.6598 - val_accuracy: 0.5420\n",
            "Epoch 2/40\n",
            "517/517 [==============================] - 0s 78us/step - loss: 0.3074 - accuracy: 0.8762 - val_loss: 0.2790 - val_accuracy: 0.9160\n",
            "Epoch 3/40\n",
            "517/517 [==============================] - 0s 80us/step - loss: 0.2281 - accuracy: 0.9091 - val_loss: 0.3236 - val_accuracy: 0.8550\n",
            "Epoch 4/40\n",
            "517/517 [==============================] - 0s 82us/step - loss: 0.2376 - accuracy: 0.9207 - val_loss: 0.2318 - val_accuracy: 0.9237\n",
            "Epoch 5/40\n",
            "517/517 [==============================] - 0s 82us/step - loss: 0.2147 - accuracy: 0.9381 - val_loss: 0.1916 - val_accuracy: 0.9618\n",
            "Epoch 6/40\n",
            "517/517 [==============================] - 0s 80us/step - loss: 0.2619 - accuracy: 0.9072 - val_loss: 0.2374 - val_accuracy: 0.8855\n",
            "Epoch 7/40\n",
            "517/517 [==============================] - 0s 80us/step - loss: 0.2408 - accuracy: 0.9149 - val_loss: 0.1756 - val_accuracy: 0.9466\n",
            "Epoch 8/40\n",
            "517/517 [==============================] - 0s 81us/step - loss: 0.2317 - accuracy: 0.9265 - val_loss: 0.2446 - val_accuracy: 0.8626\n",
            "Epoch 9/40\n",
            "517/517 [==============================] - 0s 82us/step - loss: 0.2038 - accuracy: 0.9420 - val_loss: 0.1588 - val_accuracy: 0.9542\n",
            "Epoch 10/40\n",
            "517/517 [==============================] - 0s 81us/step - loss: 0.2036 - accuracy: 0.9323 - val_loss: 0.2095 - val_accuracy: 0.9313\n",
            "Epoch 11/40\n",
            "517/517 [==============================] - 0s 81us/step - loss: 0.2642 - accuracy: 0.9033 - val_loss: 0.2196 - val_accuracy: 0.9160\n",
            "Epoch 12/40\n",
            "517/517 [==============================] - 0s 81us/step - loss: 0.2473 - accuracy: 0.9130 - val_loss: 0.2606 - val_accuracy: 0.8779\n",
            "Epoch 13/40\n",
            "517/517 [==============================] - 0s 84us/step - loss: 0.3941 - accuracy: 0.8917 - val_loss: 0.3052 - val_accuracy: 0.8321\n",
            "Epoch 14/40\n",
            "517/517 [==============================] - 0s 83us/step - loss: 0.3632 - accuracy: 0.8743 - val_loss: 0.5668 - val_accuracy: 0.6870\n",
            "Epoch 15/40\n",
            "517/517 [==============================] - 0s 84us/step - loss: 0.3369 - accuracy: 0.8433 - val_loss: 0.1984 - val_accuracy: 0.9389\n",
            "Epoch 16/40\n",
            "517/517 [==============================] - 0s 82us/step - loss: 0.2004 - accuracy: 0.9381 - val_loss: 0.6792 - val_accuracy: 0.5420\n",
            "Epoch 17/40\n",
            "517/517 [==============================] - 0s 91us/step - loss: 0.3542 - accuracy: 0.8665 - val_loss: 0.2686 - val_accuracy: 0.8931\n",
            "Epoch 18/40\n",
            "517/517 [==============================] - 0s 78us/step - loss: 0.2262 - accuracy: 0.9284 - val_loss: 0.1829 - val_accuracy: 0.9542\n",
            "Epoch 19/40\n",
            "517/517 [==============================] - 0s 77us/step - loss: 0.2567 - accuracy: 0.9130 - val_loss: 0.2185 - val_accuracy: 0.9389\n",
            "Epoch 20/40\n",
            "517/517 [==============================] - 0s 81us/step - loss: 0.2603 - accuracy: 0.9130 - val_loss: 0.3255 - val_accuracy: 0.9466\n",
            "Epoch 21/40\n",
            "517/517 [==============================] - 0s 79us/step - loss: 0.2316 - accuracy: 0.9284 - val_loss: 0.2837 - val_accuracy: 0.8702\n",
            "Epoch 22/40\n",
            "517/517 [==============================] - 0s 85us/step - loss: 0.2191 - accuracy: 0.9304 - val_loss: 0.2648 - val_accuracy: 0.9695\n",
            "Epoch 23/40\n",
            "517/517 [==============================] - 0s 81us/step - loss: 0.1811 - accuracy: 0.9458 - val_loss: 0.1496 - val_accuracy: 0.9695\n",
            "Epoch 24/40\n",
            "517/517 [==============================] - 0s 79us/step - loss: 0.2047 - accuracy: 0.9439 - val_loss: 0.1974 - val_accuracy: 0.9160\n",
            "Epoch 25/40\n",
            "517/517 [==============================] - 0s 99us/step - loss: 0.1927 - accuracy: 0.9342 - val_loss: 0.2561 - val_accuracy: 0.9313\n",
            "Epoch 26/40\n",
            "517/517 [==============================] - 0s 84us/step - loss: 0.2691 - accuracy: 0.9033 - val_loss: 0.3162 - val_accuracy: 0.9237\n",
            "Epoch 27/40\n",
            "517/517 [==============================] - 0s 80us/step - loss: 0.2517 - accuracy: 0.9265 - val_loss: 0.2547 - val_accuracy: 0.9237\n",
            "Epoch 28/40\n",
            "517/517 [==============================] - 0s 80us/step - loss: 0.2028 - accuracy: 0.9381 - val_loss: 0.3772 - val_accuracy: 0.8321\n",
            "Epoch 29/40\n",
            "517/517 [==============================] - 0s 79us/step - loss: 0.2857 - accuracy: 0.9091 - val_loss: 0.2073 - val_accuracy: 0.9237\n",
            "Epoch 30/40\n",
            "517/517 [==============================] - 0s 86us/step - loss: 0.2307 - accuracy: 0.9265 - val_loss: 0.1623 - val_accuracy: 0.9542\n",
            "Epoch 31/40\n",
            "517/517 [==============================] - 0s 77us/step - loss: 0.2055 - accuracy: 0.9342 - val_loss: 0.2216 - val_accuracy: 0.9084\n",
            "Epoch 32/40\n",
            "517/517 [==============================] - 0s 80us/step - loss: 0.2106 - accuracy: 0.9342 - val_loss: 0.2869 - val_accuracy: 0.8855\n",
            "Epoch 33/40\n",
            "517/517 [==============================] - 0s 82us/step - loss: 0.2485 - accuracy: 0.9072 - val_loss: 0.2320 - val_accuracy: 0.9237\n",
            "Epoch 34/40\n",
            "517/517 [==============================] - 0s 91us/step - loss: 0.3195 - accuracy: 0.8801 - val_loss: 0.3993 - val_accuracy: 0.8702\n",
            "Epoch 35/40\n",
            "517/517 [==============================] - 0s 85us/step - loss: 0.3147 - accuracy: 0.8743 - val_loss: 0.3431 - val_accuracy: 0.8702\n",
            "Epoch 36/40\n",
            "517/517 [==============================] - 0s 81us/step - loss: 0.3057 - accuracy: 0.9072 - val_loss: 0.2178 - val_accuracy: 0.9466\n",
            "Epoch 37/40\n",
            "517/517 [==============================] - 0s 80us/step - loss: 0.2260 - accuracy: 0.9362 - val_loss: 0.1874 - val_accuracy: 0.9466\n",
            "Epoch 38/40\n",
            "517/517 [==============================] - 0s 79us/step - loss: 0.1954 - accuracy: 0.9400 - val_loss: 0.1755 - val_accuracy: 0.9466\n",
            "Epoch 39/40\n",
            "517/517 [==============================] - 0s 80us/step - loss: 0.1750 - accuracy: 0.9478 - val_loss: 0.2109 - val_accuracy: 0.9313\n",
            "Epoch 40/40\n",
            "517/517 [==============================] - 0s 81us/step - loss: 0.1983 - accuracy: 0.9362 - val_loss: 0.3350 - val_accuracy: 0.9389\n"
          ],
          "name": "stdout"
        },
        {
          "output_type": "execute_result",
          "data": {
            "text/plain": [
              "<keras.callbacks.callbacks.History at 0x7f455871de80>"
            ]
          },
          "metadata": {
            "tags": []
          },
          "execution_count": 12
        }
      ]
    },
    {
      "cell_type": "code",
      "metadata": {
        "id": "efCZGgqJIj0x",
        "colab_type": "code",
        "colab": {
          "base_uri": "https://localhost:8080/",
          "height": 68
        },
        "outputId": "e8dd4db3-dcc5-488f-ad1d-fa16e22ebfae"
      },
      "source": [
        "print(model.evaluate(x=x_train, y=y_train))\n",
        "model.metrics_names"
      ],
      "execution_count": 13,
      "outputs": [
        {
          "output_type": "stream",
          "text": [
            "517/517 [==============================] - 0s 33us/step\n",
            "[0.2567514478295638, 0.9535783529281616]\n"
          ],
          "name": "stdout"
        },
        {
          "output_type": "execute_result",
          "data": {
            "text/plain": [
              "['loss', 'accuracy']"
            ]
          },
          "metadata": {
            "tags": []
          },
          "execution_count": 13
        }
      ]
    },
    {
      "cell_type": "code",
      "metadata": {
        "id": "sKorNSetItwk",
        "colab_type": "code",
        "colab": {
          "base_uri": "https://localhost:8080/",
          "height": 68
        },
        "outputId": "71c19f47-c6cd-48f8-9b86-baa5de5d2486"
      },
      "source": [
        "print(model.evaluate(x=x_test, y=y_test))\n",
        "model.metrics_names"
      ],
      "execution_count": 14,
      "outputs": [
        {
          "output_type": "stream",
          "text": [
            "131/131 [==============================] - 0s 56us/step\n",
            "[0.33497709320246716, 0.9389312863349915]\n"
          ],
          "name": "stdout"
        },
        {
          "output_type": "execute_result",
          "data": {
            "text/plain": [
              "['loss', 'accuracy']"
            ]
          },
          "metadata": {
            "tags": []
          },
          "execution_count": 14
        }
      ]
    },
    {
      "cell_type": "code",
      "metadata": {
        "id": "f1fOcD_nIwg-",
        "colab_type": "code",
        "colab": {
          "base_uri": "https://localhost:8080/",
          "height": 54
        },
        "outputId": "2472496a-95f3-47c2-ad72-86955622121e"
      },
      "source": [
        "Y_pred = model.predict(x_test)\n",
        "Y_pred = [ 1 if y>=0.5 else 0 for y in Y_pred ]\n",
        "print(Y_pred)"
      ],
      "execution_count": 15,
      "outputs": [
        {
          "output_type": "stream",
          "text": [
            "[1, 1, 0, 0, 0, 0, 0, 1, 0, 1, 0, 1, 0, 0, 0, 1, 1, 0, 1, 0, 1, 1, 0, 0, 0, 0, 0, 1, 1, 0, 1, 1, 1, 0, 1, 0, 0, 1, 1, 1, 1, 0, 0, 1, 0, 0, 0, 0, 0, 1, 0, 1, 1, 1, 1, 1, 0, 0, 0, 0, 1, 0, 0, 0, 1, 0, 0, 1, 0, 0, 0, 0, 0, 0, 0, 0, 0, 1, 1, 0, 1, 0, 0, 1, 1, 0, 1, 1, 0, 0, 1, 1, 1, 0, 0, 1, 0, 1, 0, 1, 0, 0, 0, 0, 0, 0, 1, 1, 0, 0, 1, 1, 0, 1, 0, 0, 0, 1, 1, 0, 0, 1, 1, 1, 1, 1, 0, 0, 1, 0, 1]\n"
          ],
          "name": "stdout"
        }
      ]
    },
    {
      "cell_type": "code",
      "metadata": {
        "id": "2-4qEKKqJGla",
        "colab_type": "code",
        "colab": {
          "base_uri": "https://localhost:8080/",
          "height": 419
        },
        "outputId": "1d241538-6083-4d32-a876-050eaa9409d0"
      },
      "source": [
        "combinedDF = pd.concat([x_train, y_train], axis=1)\n",
        "combinedDF"
      ],
      "execution_count": 16,
      "outputs": [
        {
          "output_type": "execute_result",
          "data": {
            "text/html": [
              "<div>\n",
              "<style scoped>\n",
              "    .dataframe tbody tr th:only-of-type {\n",
              "        vertical-align: middle;\n",
              "    }\n",
              "\n",
              "    .dataframe tbody tr th {\n",
              "        vertical-align: top;\n",
              "    }\n",
              "\n",
              "    .dataframe thead th {\n",
              "        text-align: right;\n",
              "    }\n",
              "</style>\n",
              "<table border=\"1\" class=\"dataframe\">\n",
              "  <thead>\n",
              "    <tr style=\"text-align: right;\">\n",
              "      <th></th>\n",
              "      <th>Junc 10</th>\n",
              "      <th>Junc 11</th>\n",
              "      <th>Junc 12</th>\n",
              "      <th>Junc 13</th>\n",
              "      <th>Junc 21</th>\n",
              "      <th>Junc 22</th>\n",
              "      <th>Junc 23</th>\n",
              "      <th>Junc 31</th>\n",
              "      <th>Junc 32</th>\n",
              "      <th>condition</th>\n",
              "    </tr>\n",
              "  </thead>\n",
              "  <tbody>\n",
              "    <tr>\n",
              "      <th>0</th>\n",
              "      <td>111.07</td>\n",
              "      <td>110.90</td>\n",
              "      <td>115.38</td>\n",
              "      <td>116.56</td>\n",
              "      <td>113.70</td>\n",
              "      <td>115.94</td>\n",
              "      <td>118.04</td>\n",
              "      <td>112.15</td>\n",
              "      <td>107.41</td>\n",
              "      <td>1</td>\n",
              "    </tr>\n",
              "    <tr>\n",
              "      <th>1</th>\n",
              "      <td>130.28</td>\n",
              "      <td>122.37</td>\n",
              "      <td>121.40</td>\n",
              "      <td>122.23</td>\n",
              "      <td>120.13</td>\n",
              "      <td>121.88</td>\n",
              "      <td>123.82</td>\n",
              "      <td>117.13</td>\n",
              "      <td>111.89</td>\n",
              "      <td>0</td>\n",
              "    </tr>\n",
              "    <tr>\n",
              "      <th>2</th>\n",
              "      <td>119.99</td>\n",
              "      <td>110.67</td>\n",
              "      <td>108.43</td>\n",
              "      <td>109.34</td>\n",
              "      <td>107.60</td>\n",
              "      <td>109.12</td>\n",
              "      <td>111.03</td>\n",
              "      <td>104.55</td>\n",
              "      <td>99.24</td>\n",
              "      <td>1</td>\n",
              "    </tr>\n",
              "    <tr>\n",
              "      <th>3</th>\n",
              "      <td>130.28</td>\n",
              "      <td>122.37</td>\n",
              "      <td>121.40</td>\n",
              "      <td>122.23</td>\n",
              "      <td>120.13</td>\n",
              "      <td>121.88</td>\n",
              "      <td>123.82</td>\n",
              "      <td>117.13</td>\n",
              "      <td>111.89</td>\n",
              "      <td>0</td>\n",
              "    </tr>\n",
              "    <tr>\n",
              "      <th>4</th>\n",
              "      <td>128.59</td>\n",
              "      <td>120.45</td>\n",
              "      <td>118.35</td>\n",
              "      <td>119.99</td>\n",
              "      <td>118.94</td>\n",
              "      <td>120.07</td>\n",
              "      <td>122.05</td>\n",
              "      <td>117.15</td>\n",
              "      <td>112.09</td>\n",
              "      <td>0</td>\n",
              "    </tr>\n",
              "    <tr>\n",
              "      <th>...</th>\n",
              "      <td>...</td>\n",
              "      <td>...</td>\n",
              "      <td>...</td>\n",
              "      <td>...</td>\n",
              "      <td>...</td>\n",
              "      <td>...</td>\n",
              "      <td>...</td>\n",
              "      <td>...</td>\n",
              "      <td>...</td>\n",
              "      <td>...</td>\n",
              "    </tr>\n",
              "    <tr>\n",
              "      <th>512</th>\n",
              "      <td>127.54</td>\n",
              "      <td>119.26</td>\n",
              "      <td>117.02</td>\n",
              "      <td>118.67</td>\n",
              "      <td>117.66</td>\n",
              "      <td>118.76</td>\n",
              "      <td>120.74</td>\n",
              "      <td>115.86</td>\n",
              "      <td>110.79</td>\n",
              "      <td>0</td>\n",
              "    </tr>\n",
              "    <tr>\n",
              "      <th>513</th>\n",
              "      <td>123.80</td>\n",
              "      <td>115.01</td>\n",
              "      <td>114.84</td>\n",
              "      <td>113.58</td>\n",
              "      <td>107.14</td>\n",
              "      <td>109.52</td>\n",
              "      <td>111.69</td>\n",
              "      <td>82.28</td>\n",
              "      <td>17.35</td>\n",
              "      <td>0</td>\n",
              "    </tr>\n",
              "    <tr>\n",
              "      <th>514</th>\n",
              "      <td>129.25</td>\n",
              "      <td>121.20</td>\n",
              "      <td>119.63</td>\n",
              "      <td>120.91</td>\n",
              "      <td>119.35</td>\n",
              "      <td>120.82</td>\n",
              "      <td>122.78</td>\n",
              "      <td>117.01</td>\n",
              "      <td>111.89</td>\n",
              "      <td>0</td>\n",
              "    </tr>\n",
              "    <tr>\n",
              "      <th>515</th>\n",
              "      <td>124.13</td>\n",
              "      <td>115.38</td>\n",
              "      <td>115.77</td>\n",
              "      <td>114.57</td>\n",
              "      <td>104.34</td>\n",
              "      <td>109.86</td>\n",
              "      <td>112.08</td>\n",
              "      <td>38.80</td>\n",
              "      <td>57.30</td>\n",
              "      <td>1</td>\n",
              "    </tr>\n",
              "    <tr>\n",
              "      <th>516</th>\n",
              "      <td>129.96</td>\n",
              "      <td>122.01</td>\n",
              "      <td>120.53</td>\n",
              "      <td>121.80</td>\n",
              "      <td>120.21</td>\n",
              "      <td>121.71</td>\n",
              "      <td>123.67</td>\n",
              "      <td>117.88</td>\n",
              "      <td>112.76</td>\n",
              "      <td>0</td>\n",
              "    </tr>\n",
              "  </tbody>\n",
              "</table>\n",
              "<p>517 rows × 10 columns</p>\n",
              "</div>"
            ],
            "text/plain": [
              "     Junc 10  Junc 11  Junc 12  Junc 13  ...  Junc 23  Junc 31  Junc 32  condition\n",
              "0     111.07   110.90   115.38   116.56  ...   118.04   112.15   107.41          1\n",
              "1     130.28   122.37   121.40   122.23  ...   123.82   117.13   111.89          0\n",
              "2     119.99   110.67   108.43   109.34  ...   111.03   104.55    99.24          1\n",
              "3     130.28   122.37   121.40   122.23  ...   123.82   117.13   111.89          0\n",
              "4     128.59   120.45   118.35   119.99  ...   122.05   117.15   112.09          0\n",
              "..       ...      ...      ...      ...  ...      ...      ...      ...        ...\n",
              "512   127.54   119.26   117.02   118.67  ...   120.74   115.86   110.79          0\n",
              "513   123.80   115.01   114.84   113.58  ...   111.69    82.28    17.35          0\n",
              "514   129.25   121.20   119.63   120.91  ...   122.78   117.01   111.89          0\n",
              "515   124.13   115.38   115.77   114.57  ...   112.08    38.80    57.30          1\n",
              "516   129.96   122.01   120.53   121.80  ...   123.67   117.88   112.76          0\n",
              "\n",
              "[517 rows x 10 columns]"
            ]
          },
          "metadata": {
            "tags": []
          },
          "execution_count": 16
        }
      ]
    },
    {
      "cell_type": "code",
      "metadata": {
        "id": "IKZHAiQXJMgZ",
        "colab_type": "code",
        "colab": {
          "base_uri": "https://localhost:8080/",
          "height": 255
        },
        "outputId": "d9d56541-26b4-4b60-f118-a8b4a7f244c1"
      },
      "source": [
        "total = 0\n",
        "correct = 0\n",
        "wrong = 0\n",
        "wrong_prediction_df = pd.DataFrame(columns = ['Junc 10', 'Junc 11', 'Junc 12', 'Junc 13', 'Junc 21', 'Junc 22', 'Junc 23', 'Junc 31', 'Junc 32', 'condition']) \n",
        "for i in range(len(Y_pred)):\n",
        "  total=total+1\n",
        "  if(y_test['condition'][i] == Y_pred[i]):\n",
        "    correct=correct+1\n",
        "  else:\n",
        "    wrong=wrong+1\n",
        "    currentPressureArray = x_test.loc[i].to_list()\n",
        "    currentPressureArray.append(y_test['condition'][i])\n",
        "    wrong_prediction_df = wrong_prediction_df.append(pd.Series(currentPressureArray, index = combinedDF.columns), ignore_index=True)\n",
        "\n",
        "\n",
        "print(\"Total \" + str(total))\n",
        "print(\"Correct \" + str(correct))\n",
        "print(\"Wrong \" + str(wrong))\n",
        "print(wrong_prediction_df)"
      ],
      "execution_count": 17,
      "outputs": [
        {
          "output_type": "stream",
          "text": [
            "Total 131\n",
            "Correct 123\n",
            "Wrong 8\n",
            "   Junc 10  Junc 11  Junc 12  Junc 13  ...  Junc 23  Junc 31  Junc 32  condition\n",
            "0   125.10   116.49   114.40   115.71  ...   117.61   111.93   106.78        1.0\n",
            "1   125.30   116.71   116.23   115.60  ...   114.29    86.62    22.02        1.0\n",
            "2   124.43   115.72   115.64   114.36  ...   112.43    82.87    17.50        1.0\n",
            "3   127.08   118.73   116.44   118.09  ...   120.16   115.30   110.22        1.0\n",
            "4   125.19   116.58   116.13   115.45  ...   114.02    85.63    18.67        1.0\n",
            "5   125.67   117.13   116.70   116.06  ...   114.73    86.98    22.13        1.0\n",
            "6   126.26   117.80   116.99   116.91  ...   116.07    89.53    23.45        1.0\n",
            "7   126.23   117.77   116.99   116.85  ...   115.91    88.60    19.93        1.0\n",
            "\n",
            "[8 rows x 10 columns]\n"
          ],
          "name": "stdout"
        }
      ]
    },
    {
      "cell_type": "markdown",
      "metadata": {
        "id": "8lyVtOR8LtEt",
        "colab_type": "text"
      },
      "source": [
        "DATA VISUALISATION\n",
        "\n",
        "THE TRAIN SET PRESSURE DATA HAS BEEN PLOTTED FOR LEAK AND NON-LEAK CASE"
      ]
    },
    {
      "cell_type": "code",
      "metadata": {
        "id": "Lg_MI4PnJURi",
        "colab_type": "code",
        "colab": {
          "base_uri": "https://localhost:8080/",
          "height": 1000
        },
        "outputId": "d0bd0396-f467-4d6c-ae50-1fe50033beaf"
      },
      "source": [
        "import matplotlib.pyplot as plt\n",
        "for col in combinedDF:  \n",
        "    if col != 'condition':\n",
        "        plt.scatter('condition', col , data=combinedDF)\n",
        "        plt.ylabel(col +  'pressure')\n",
        "        plt.xlabel('0=no leak, 1=leak')\n",
        "        plt.axis([-0.1, 1.1, 0, 140])\n",
        "        plt.show()"
      ],
      "execution_count": 23,
      "outputs": [
        {
          "output_type": "display_data",
          "data": {
            "image/png": "[encoded data removed]",
            "text/plain": [
              "<Figure size 432x288 with 1 Axes>"
            ]
          },
          "metadata": {
            "tags": [],
            "needs_background": "light"
          }
        },
        {
          "output_type": "display_data",
          "data": {
            "image/png": "[encoded data removed]",
            "text/plain": [
              "<Figure size 432x288 with 1 Axes>"
            ]
          },
          "metadata": {
            "tags": [],
            "needs_background": "light"
          }
        },
        {
          "output_type": "display_data",
          "data": {
            "image/png": "[encoded data removed]",
            "text/plain": [
              "<Figure size 432x288 with 1 Axes>"
            ]
          },
          "metadata": {
            "tags": [],
            "needs_background": "light"
          }
        },
        {
          "output_type": "display_data",
          "data": {
            "image/png": "[encoded data removed]",
            "text/plain": [
              "<Figure size 432x288 with 1 Axes>"
            ]
          },
          "metadata": {
            "tags": [],
            "needs_background": "light"
          }
        },
        {
          "output_type": "display_data",
          "data": {
            "image/png": "[encoded data removed]",
            "text/plain": [
              "<Figure size 432x288 with 1 Axes>"
            ]
          },
          "metadata": {
            "tags": [],
            "needs_background": "light"
          }
        },
        {
          "output_type": "display_data",
          "data": {
            "image/png": "[encoded data removed]",
            "text/plain": [
              "<Figure size 432x288 with 1 Axes>"
            ]
          },
          "metadata": {
            "tags": [],
            "needs_background": "light"
          }
        },
        {
          "output_type": "display_data",
          "data": {
            "image/png": "[encoded data removed]",
            "text/plain": [
              "<Figure size 432x288 with 1 Axes>"
            ]
          },
          "metadata": {
            "tags": [],
            "needs_background": "light"
          }
        },
        {
          "output_type": "display_data",
          "data": {
            "image/png": "[encoded data removed]",
            "text/plain": [
              "<Figure size 432x288 with 1 Axes>"
            ]
          },
          "metadata": {
            "tags": [],
            "needs_background": "light"
          }
        },
        {
          "output_type": "display_data",
          "data": {
            "image/png": "[encoded data removed]",
            "text/plain": [
              "<Figure size 432x288 with 1 Axes>"
            ]
          },
          "metadata": {
            "tags": [],
            "needs_background": "light"
          }
        }
      ]
    },
    {
      "cell_type": "markdown",
      "metadata": {
        "id": "Inp6HfMvLKln",
        "colab_type": "text"
      },
      "source": [
        "DATA VISUALISATION:\n",
        "\n",
        "THE FOLLOWING GRAPHS SHOW THE PRESSURES WHICH WERE WRONGLY PREDICTED"
      ]
    },
    {
      "cell_type": "code",
      "metadata": {
        "id": "kvUtnbevJcDW",
        "colab_type": "code",
        "colab": {
          "base_uri": "https://localhost:8080/",
          "height": 1000
        },
        "outputId": "ab326f1a-e165-4c1b-86d3-4bb848c15a93"
      },
      "source": [
        "for col in wrong_prediction_df:  \n",
        "    if col != 'condition':\n",
        "        plt.scatter('condition', col , data=wrong_prediction_df)\n",
        "        plt.ylabel(col +  'pressure')\n",
        "        plt.xlabel('0=no leak, 1=leak')\n",
        "        plt.axis([-0.1, 1.1, 0, 140])\n",
        "        plt.show()"
      ],
      "execution_count": 24,
      "outputs": [
        {
          "output_type": "display_data",
          "data": {
            "image/png": "[encoded data removed]",
            "text/plain": [
              "<Figure size 432x288 with 1 Axes>"
            ]
          },
          "metadata": {
            "tags": [],
            "needs_background": "light"
          }
        },
        {
          "output_type": "display_data",
          "data": {
            "image/png": "[encoded data removed]",
            "text/plain": [
              "<Figure size 432x288 with 1 Axes>"
            ]
          },
          "metadata": {
            "tags": [],
            "needs_background": "light"
          }
        },
        {
          "output_type": "display_data",
          "data": {
            "image/png": "[encoded data removed]",
            "text/plain": [
              "<Figure size 432x288 with 1 Axes>"
            ]
          },
          "metadata": {
            "tags": [],
            "needs_background": "light"
          }
        },
        {
          "output_type": "display_data",
          "data": {
            "image/png": "[encoded data removed]",
            "text/plain": [
              "<Figure size 432x288 with 1 Axes>"
            ]
          },
          "metadata": {
            "tags": [],
            "needs_background": "light"
          }
        },
        {
          "output_type": "display_data",
          "data": {
            "image/png": "[encoded data removed]",
            "text/plain": [
              "<Figure size 432x288 with 1 Axes>"
            ]
          },
          "metadata": {
            "tags": [],
            "needs_background": "light"
          }
        },
        {
          "output_type": "display_data",
          "data": {
            "image/png": "[encoded data removed]",
            "text/plain": [
              "<Figure size 432x288 with 1 Axes>"
            ]
          },
          "metadata": {
            "tags": [],
            "needs_background": "light"
          }
        },
        {
          "output_type": "display_data",
          "data": {
            "image/png": "[encoded data removed]",
            "text/plain": [
              "<Figure size 432x288 with 1 Axes>"
            ]
          },
          "metadata": {
            "tags": [],
            "needs_background": "light"
          }
        },
        {
          "output_type": "display_data",
          "data": {
            "image/png": "[encoded data removed]",
            "text/plain": [
              "<Figure size 432x288 with 1 Axes>"
            ]
          },
          "metadata": {
            "tags": [],
            "needs_background": "light"
          }
        },
        {
          "output_type": "display_data",
          "data": {
            "image/png": "[encoded data removed]",
            "text/plain": [
              "<Figure size 432x288 with 1 Axes>"
            ]
          },
          "metadata": {
            "tags": [],
            "needs_background": "light"
          }
        }
      ]
    },
    {
      "cell_type": "code",
      "metadata": {
        "id": "fkY2pwOlKFss",
        "colab_type": "code",
        "colab": {}
      },
      "source": [
        ""
      ],
      "execution_count": null,
      "outputs": []
    }
  ]
}